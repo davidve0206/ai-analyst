{
 "cells": [
  {
   "cell_type": "code",
   "execution_count": 2,
   "id": "76432897",
   "metadata": {},
   "outputs": [
    {
     "name": "stderr",
     "output_type": "stream",
     "text": [
      "/var/folders/wk/s65gzdnd2zq9zgz4swg1smsw0000gn/T/ipykernel_38533/2246498331.py:4: DtypeWarning: Columns (3,4,8,10,12) have mixed types. Specify dtype option on import or set low_memory=False.\n",
      "  df = pd.read_csv(\"data/financials_raw.csv\", encoding=\"ISO-8859-1\")\n"
     ]
    }
   ],
   "source": [
    "import pandas as pd\n",
    "\n",
    "# Load the CSV file\n",
    "df = pd.read_csv(\"data/financials_raw.csv\", encoding=\"ISO-8859-1\")"
   ]
  },
  {
   "cell_type": "code",
   "execution_count": 3,
   "id": "3d0fe0e7",
   "metadata": {},
   "outputs": [
    {
     "name": "stdout",
     "output_type": "stream",
     "text": [
      "Index(['ENTITY_CURRENCY', 'CURRENCY', 'EXCHANGE_RATE', 'SOLD_TO_CITY',\n",
      "       'SOLD_TO_COUNTRY', 'INVOICE_DATE', 'INVOICE_YEAR', 'INVOICE_MONTH',\n",
      "       'UNIT_OF_MEASURE', 'INV_LINE_SEQ__CRM_USAGE_ONLY_', 'ITEM_CODE',\n",
      "       'ITEM_EU_FAMILY', 'IS_INTERCO_FLAG', 'INVOICED_QUANTITY',\n",
      "       'INVOICE_LIST_PRICE', 'INVOICE_PRICE', 'INVOICE_STD_COST',\n",
      "       'ITEM_MATERIAL_COST', 'ITEM_LABOR_COST', 'ITEM_BURDEN_COST',\n",
      "       'ITEM_OVERHEAD_COST', 'ITEM_SUBCONTRACTING_COST', 'ITEM_STANDARD_COST',\n",
      "       'SALES_FUNCTIONAL_CURRENCY', 'COGS', 'GROSS_AMOUNT', 'DISCOUNT_AMOUNT',\n",
      "       'FY', 'Financial Period', 'FY Period', 'EntityID', 'InvoiceID',\n",
      "       'SoldToID', 'ItemCodeID', 'Multiplicator'],\n",
      "      dtype='object')\n"
     ]
    }
   ],
   "source": [
    "# Display the column names\n",
    "print(df.columns)"
   ]
  },
  {
   "cell_type": "code",
   "execution_count": 4,
   "id": "67374e4c",
   "metadata": {},
   "outputs": [
    {
     "name": "stdout",
     "output_type": "stream",
     "text": [
      "<class 'pandas.core.frame.DataFrame'>\n",
      "RangeIndex: 6439207 entries, 0 to 6439206\n",
      "Data columns (total 35 columns):\n",
      " #   Column                         Dtype  \n",
      "---  ------                         -----  \n",
      " 0   ENTITY_CURRENCY                object \n",
      " 1   CURRENCY                       object \n",
      " 2   EXCHANGE_RATE                  float64\n",
      " 3   SOLD_TO_CITY                   object \n",
      " 4   SOLD_TO_COUNTRY                object \n",
      " 5   INVOICE_DATE                   object \n",
      " 6   INVOICE_YEAR                   int64  \n",
      " 7   INVOICE_MONTH                  int64  \n",
      " 8   UNIT_OF_MEASURE                object \n",
      " 9   INV_LINE_SEQ__CRM_USAGE_ONLY_  float64\n",
      " 10  ITEM_CODE                      object \n",
      " 11  ITEM_EU_FAMILY                 float64\n",
      " 12  IS_INTERCO_FLAG                object \n",
      " 13  INVOICED_QUANTITY              float64\n",
      " 14  INVOICE_LIST_PRICE             float64\n",
      " 15  INVOICE_PRICE                  float64\n",
      " 16  INVOICE_STD_COST               float64\n",
      " 17  ITEM_MATERIAL_COST             float64\n",
      " 18  ITEM_LABOR_COST                float64\n",
      " 19  ITEM_BURDEN_COST               float64\n",
      " 20  ITEM_OVERHEAD_COST             float64\n",
      " 21  ITEM_SUBCONTRACTING_COST       float64\n",
      " 22  ITEM_STANDARD_COST             float64\n",
      " 23  SALES_FUNCTIONAL_CURRENCY      float64\n",
      " 24  COGS                           float64\n",
      " 25  GROSS_AMOUNT                   float64\n",
      " 26  DISCOUNT_AMOUNT                float64\n",
      " 27  FY                             object \n",
      " 28  Financial Period               object \n",
      " 29  FY Period                      object \n",
      " 30  EntityID                       int64  \n",
      " 31  InvoiceID                      int64  \n",
      " 32  SoldToID                       int64  \n",
      " 33  ItemCodeID                     int64  \n",
      " 34  Multiplicator                  float64\n",
      "dtypes: float64(18), int64(6), object(11)\n",
      "memory usage: 1.7+ GB\n",
      "None\n"
     ]
    }
   ],
   "source": [
    "print(df.info())"
   ]
  },
  {
   "cell_type": "code",
   "execution_count": 5,
   "id": "a3321d11",
   "metadata": {},
   "outputs": [
    {
     "name": "stdout",
     "output_type": "stream",
     "text": [
      "    INVOICE_MONTH  INVOICE_YEAR     GROSS_AMOUNT  INVOICE_COUNT\n",
      "26             11          2020       $12,585.31           2042\n",
      "29             12          2020  $213,571,032.10        1769806\n",
      "0               1          2021  $174,887,648.00        1370200\n",
      "3               2          2021  $183,058,237.85        1055032\n",
      "6               3          2021  $218,297,981.31        1132935\n",
      "9               4          2021  $218,547,705.31        1013208\n",
      "12              5          2021  $187,152,210.72         919287\n",
      "15              6          2021       $41,608.57             21\n",
      "30             12          2021  $193,484,742.68         880759\n",
      "1               1          2022  $215,569,187.28         834138\n",
      "4               2          2022  $204,574,156.10         828166\n",
      "7               3          2022  $205,778,009.24        1003299\n",
      "10              4          2022  $190,809,688.94         752260\n",
      "13              5          2022  $180,731,558.45         907737\n",
      "16              6          2022  $191,227,232.01         772114\n",
      "18              7          2022  $196,726,283.87         642068\n",
      "20              8          2022  $166,622,116.35         661069\n",
      "22              9          2022  $177,602,247.24         735332\n",
      "24             10          2022  $179,465,803.52         730585\n",
      "27             11          2022  $225,152,055.96         701389\n",
      "31             12          2022  $162,929,536.88         629520\n",
      "2               1          2023  $187,559,832.55         777808\n",
      "5               2          2023  $202,968,337.98         810422\n",
      "8               3          2023  $206,917,604.38         822664\n",
      "11              4          2023  $149,339,422.60         549457\n",
      "14              5          2023  $181,602,267.46         638026\n",
      "17              6          2023  $194,377,529.94         697792\n",
      "19              7          2023  $167,946,598.87         609156\n",
      "21              8          2023  $186,510,495.56         740135\n",
      "23              9          2023  $175,745,033.77         700419\n",
      "25             10          2023  $205,347,650.96         671841\n",
      "28             11          2023  $200,778,218.28         646410\n",
      "32             12          2023          $370.15              2\n"
     ]
    }
   ],
   "source": [
    "# Total GROSS_AMOUNT by INVOICE_MONTH AND INVOICE_YEAR, as int, formatted as $#,###,###.##\n",
    "# Also the count of invoices for each month and year\n",
    "total_gross_amount = (\n",
    "    df.groupby([\"INVOICE_MONTH\", \"INVOICE_YEAR\"])\n",
    "    .agg(\n",
    "        GROSS_AMOUNT=(\"GROSS_AMOUNT\", \"sum\"),\n",
    "        INVOICE_COUNT=(\"INVOICED_QUANTITY\", \"sum\"),\n",
    "    )\n",
    "    .reset_index()\n",
    ")\n",
    "total_gross_amount['GROSS_AMOUNT'] = total_gross_amount['GROSS_AMOUNT'].apply(lambda x: f\"${x:,.2f}\")\n",
    "total_gross_amount['INVOICE_COUNT'] = total_gross_amount['INVOICE_COUNT'].astype(int)\n",
    "\n",
    "# sort by INVOICE_YEAR and INVOICE_MONTH\n",
    "total_gross_amount = total_gross_amount.sort_values(by=[\"INVOICE_YEAR\", \"INVOICE_MONTH\"])\n",
    "print(total_gross_amount)"
   ]
  },
  {
   "cell_type": "code",
   "execution_count": 6,
   "id": "f51a2ecc",
   "metadata": {},
   "outputs": [
    {
     "name": "stdout",
     "output_type": "stream",
     "text": [
      "    INVOICE_MONTH  INVOICE_YEAR   GROSS_AMOUNT  INVOICE_COUNT\n",
      "28             12          2020  $3,236,168.04          14932\n",
      "0               1          2021  $4,145,849.44          10283\n",
      "3               2          2021  $3,600,682.67          12931\n",
      "6               3          2021  $3,704,253.79          16454\n",
      "9               4          2021  $6,413,732.35          23237\n",
      "12              5          2021  $5,016,890.23          14501\n",
      "15              6          2021        $100.96              2\n",
      "29             12          2021  $6,537,842.84          19488\n",
      "1               1          2022  $6,487,902.66          16394\n",
      "4               2          2022  $3,966,055.53          16294\n",
      "7               3          2022  $7,056,941.51          16749\n",
      "10              4          2022  $3,880,280.38          15006\n",
      "13              5          2022  $4,053,337.12          17046\n",
      "16              6          2022  $5,539,376.05          12536\n",
      "18              7          2022  $3,451,685.63          12652\n",
      "20              8          2022  $3,293,526.15          10207\n",
      "22              9          2022  $3,397,056.46          14443\n",
      "24             10          2022  $4,011,630.99          13304\n",
      "26             11          2022  $4,749,034.24          14556\n",
      "30             12          2022  $3,389,657.49          13378\n",
      "2               1          2023  $5,087,153.36          14649\n",
      "5               2          2023  $4,385,682.51          30601\n",
      "8               3          2023  $5,415,511.03          11437\n",
      "11              4          2023  $3,125,102.76           8629\n",
      "14              5          2023  $5,390,687.46          13746\n",
      "17              6          2023  $5,573,925.70          13741\n",
      "19              7          2023  $3,716,148.13          12963\n",
      "21              8          2023  $6,009,843.58          11121\n",
      "23              9          2023  $4,379,736.47          11476\n",
      "25             10          2023  $3,040,613.68          10752\n",
      "27             11          2023  $4,410,770.42          10674\n"
     ]
    }
   ],
   "source": [
    "# Filter by sales in SPAIN\n",
    "spain_sales = df[df[\"SOLD_TO_COUNTRY\"] == \"SPAIN\"]\n",
    "\n",
    "# Total GROSS_AMOUNT by INVOICE_MONTH AND INVOICE_YEAR, as int, formatted as $#,###,###.##\n",
    "# Also the count of invoices for each month and year\n",
    "spain_total_gross_amount = (\n",
    "    spain_sales.groupby([\"INVOICE_MONTH\", \"INVOICE_YEAR\"])\n",
    "    .agg(\n",
    "        GROSS_AMOUNT=(\"GROSS_AMOUNT\", \"sum\"),\n",
    "        INVOICE_COUNT=(\"INVOICED_QUANTITY\", \"sum\"),\n",
    "    )\n",
    "    .reset_index()\n",
    ")\n",
    "spain_total_gross_amount['GROSS_AMOUNT'] = spain_total_gross_amount['GROSS_AMOUNT'].apply(lambda x: f\"${x:,.2f}\")\n",
    "spain_total_gross_amount['INVOICE_COUNT'] = spain_total_gross_amount['INVOICE_COUNT'].astype(int)\n",
    "\n",
    "# sort by INVOICE_YEAR and INVOICE_MONTH\n",
    "spain_total_gross_amount = spain_total_gross_amount.sort_values(by=[\"INVOICE_YEAR\", \"INVOICE_MONTH\"])\n",
    "print(spain_total_gross_amount)"
   ]
  }
 ],
 "metadata": {
  "kernelspec": {
   "display_name": ".venv",
   "language": "python",
   "name": "python3"
  },
  "language_info": {
   "codemirror_mode": {
    "name": "ipython",
    "version": 3
   },
   "file_extension": ".py",
   "mimetype": "text/x-python",
   "name": "python",
   "nbconvert_exporter": "python",
   "pygments_lexer": "ipython3",
   "version": "3.13.0"
  }
 },
 "nbformat": 4,
 "nbformat_minor": 5
}
